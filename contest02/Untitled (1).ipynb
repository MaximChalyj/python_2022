{
 "cells": [
  {
   "cell_type": "code",
   "execution_count": 12,
   "id": "395694e9",
   "metadata": {},
   "outputs": [
    {
     "name": "stdout",
     "output_type": "stream",
     "text": [
      "14 09\n",
      "0 1 2 3 4 5 6 7 8\n",
      "14 15 16 17 18 19 20 21 22\n",
      "28 29 30 31 32 33 34 35 36\n",
      "42 43 44 45 46 47 48 49 50\n",
      "56 57 58 59 60 61 62 63 64\n",
      "70 71 72 73 74 75 76 77 78\n",
      "84 85 86 87 88 89 90 91 92\n",
      "98 99 100 101 102 103 104 105 106\n",
      "112 113 114 115 116 117 118 119 120\n",
      "126 127 128 129 130 131 132 133 134\n",
      "140 141 142 143 144 145 146 147 148\n",
      "154 155 156 157 158 159 160 161 162\n",
      "168 169 170 171 172 173 174 175 176\n",
      "182 183 184 185 186 187 188 189 190\n"
     ]
    }
   ],
   "source": [
    "n, m = map(int, input().split())\n",
    "X = [[i * n + j for j in range(m)] for i in range(n)]\n",
    "for i in X:\n",
    "    print(*i)"
   ]
  },
  {
   "cell_type": "code",
   "execution_count": 17,
   "id": "66ace4b0",
   "metadata": {},
   "outputs": [
    {
     "name": "stdout",
     "output_type": "stream",
     "text": [
      "14 09\n",
      "0 1 1 1 1 1 1 1 1\n",
      "2 0 1 1 1 1 1 1 1\n",
      "2 2 0 1 1 1 1 1 1\n",
      "2 2 2 0 1 1 1 1 1\n",
      "2 2 2 2 0 1 1 1 1\n",
      "2 2 2 2 2 0 1 1 1\n",
      "2 2 2 2 2 2 0 1 1\n",
      "2 2 2 2 2 2 2 0 1\n",
      "2 2 2 2 2 2 2 2 0\n",
      "2 2 2 2 2 2 2 2 2\n",
      "2 2 2 2 2 2 2 2 2\n",
      "2 2 2 2 2 2 2 2 2\n",
      "2 2 2 2 2 2 2 2 2\n",
      "2 2 2 2 2 2 2 2 2\n"
     ]
    }
   ],
   "source": [
    "n, m = map(int, input().split())\n",
    "X = [[(i == j) * 0 + (i < j) * 1 + (i > j) * 2 for j in range(m)] for i in range(n)]\n",
    "for i in X:\n",
    "    print(*i)"
   ]
  },
  {
   "cell_type": "code",
   "execution_count": 19,
   "id": "e9137829",
   "metadata": {},
   "outputs": [
    {
     "name": "stdout",
     "output_type": "stream",
     "text": [
      "5 5\n",
      "0 1 2 3 4\n",
      "1 1 2 3 4\n",
      "2 2 2 3 4\n",
      "3 3 3 3 4\n",
      "4 4 4 4 4\n"
     ]
    }
   ],
   "source": [
    "n, m = map(int, input().split())\n",
    "X = [[(i == j) * i + (i < j) * j + (i > j) * i for j in range(m)] for i in range(n)]\n",
    "for i in X:\n",
    "    print(*i)"
   ]
  },
  {
   "cell_type": "code",
   "execution_count": 40,
   "id": "36dac0d1",
   "metadata": {},
   "outputs": [],
   "source": [
    "with open(\"untitled.txt\", \"r\") as f:\n",
    "    a = f.readlines()\n",
    "a.reverse()\n",
    "with open(\"untitled1.txt\", \"w\") as F:\n",
    "    F.writelines(\"\".join(x) for x in a)"
   ]
  },
  {
   "cell_type": "code",
   "execution_count": 54,
   "id": "102f4359",
   "metadata": {},
   "outputs": [],
   "source": [
    "with open(\"untitled2.txt\", \"r\") as f:\n",
    "    a = list(f.read())\n",
    "a.reverse()\n",
    "a = a[1:]\n",
    "with open(\"untitled3.txt\", \"w\") as F:\n",
    "    F.writelines(\"\".join(x) for x in a)"
   ]
  },
  {
   "cell_type": "code",
   "execution_count": 18,
   "id": "0f6c3908",
   "metadata": {},
   "outputs": [
    {
     "name": "stdout",
     "output_type": "stream",
     "text": [
      "93 91 92\n"
     ]
    }
   ],
   "source": [
    "with open('untitled4.txt', 'r', encoding='utf-8') as f:\n",
    "    a = list(f.readlines())\n",
    "Student9 = []\n",
    "Student10 = []\n",
    "Student11 = []\n",
    "for x in a:\n",
    "    y = x.split()\n",
    "    if y[2] == '9':\n",
    "        Student9.append(y[3])\n",
    "    elif y[2] == '10':\n",
    "        Student10.append(y[3])\n",
    "    else:\n",
    "        Student11.append(y[3])\n",
    "print(max(Student9), max(Student10), max(Student11))\n"
   ]
  },
  {
   "cell_type": "code",
   "execution_count": 34,
   "id": "7da6b38a",
   "metadata": {},
   "outputs": [
    {
     "name": "stdout",
     "output_type": "stream",
     "text": [
      "13 35\n"
     ]
    }
   ],
   "source": [
    "with open(\"untitled5.txt\", \"r\", encoding=\"utf-8\") as f:\n",
    "    a = list(map(lambda x: x.rstrip().split(), f.readlines()))\n",
    "    M = 0\n",
    "    s = []\n",
    "    for x in a:\n",
    "        if int(x[3]) >= M:\n",
    "            M = int(x[3])\n",
    "            s.append(x[2])\n",
    "    k = []\n",
    "    for i in sorted(s):\n",
    "        if i not in k:\n",
    "            k.append(i)\n",
    "    print(*k)"
   ]
  },
  {
   "cell_type": "code",
   "execution_count": 29,
   "id": "70c6ddcc",
   "metadata": {
    "scrolled": false
   },
   "outputs": [
    {
     "name": "stdout",
     "output_type": "stream",
     "text": [
      "Андреев Роман 75\n",
      "Васильев Андрей 56\n",
      "Иванов Сергей 56\n",
      "Петров Василий 99\n",
      "Романов Иван 68\n",
      "Сергеев Петр 74\n"
     ]
    }
   ],
   "source": [
    "with open('untitled6.txt', 'r', encoding='utf-8') as f:\n",
    "    a = list(f.readlines())\n",
    "a.sort()\n",
    "for x in a:\n",
    "    y = x.split()\n",
    "    del(y[2])\n",
    "    print(*y)"
   ]
  },
  {
   "cell_type": "code",
   "execution_count": 32,
   "id": "81daa6f8",
   "metadata": {},
   "outputs": [
    {
     "name": "stdout",
     "output_type": "stream",
     "text": [
      "91.5 91.0 92.0\n"
     ]
    }
   ],
   "source": [
    "with open('untitled4.txt', 'r', encoding='utf-8') as f:\n",
    "    a = list(f.readlines())\n",
    "Student9 = []\n",
    "Student10 = []\n",
    "Student11 = []\n",
    "Summa9 = 0\n",
    "Summa10 = 0\n",
    "Summa11 = 0\n",
    "for x in a:\n",
    "    y = x.split()\n",
    "    if y[2] == '9':\n",
    "        Student9.append(y[3])\n",
    "    elif y[2] == '10':\n",
    "        Student10.append(y[3])\n",
    "    else:\n",
    "        Student11.append(y[3])\n",
    "for i in range(len(Student9)):\n",
    "    Summa9 += int(Student9[i])\n",
    "for i in range(len(Student10)):\n",
    "    Summa10 += int(Student10[i])\n",
    "for i in range(len(Student11)):\n",
    "    Summa11 += int(Student11[i])\n",
    "print(Summa9/len(Student9), Summa10/len(Student10), Summa11/len(Student11))"
   ]
  }
 ],
 "metadata": {
  "kernelspec": {
   "display_name": "Python 3 (ipykernel)",
   "language": "python",
   "name": "python3"
  },
  "language_info": {
   "codemirror_mode": {
    "name": "ipython",
    "version": 3
   },
   "file_extension": ".py",
   "mimetype": "text/x-python",
   "name": "python",
   "nbconvert_exporter": "python",
   "pygments_lexer": "ipython3",
   "version": "3.10.7"
  }
 },
 "nbformat": 4,
 "nbformat_minor": 5
}
